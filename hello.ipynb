{
 "cells": [
  {
   "cell_type": "code",
   "execution_count": 1,
   "metadata": {},
   "outputs": [],
   "source": [
    "# ne pas toucher le script et executer les celulles dans l'ordre\n",
    "import pandas as pd\n",
    "import regex \n",
    "import unicodedata\n"
   ]
  },
  {
   "cell_type": "code",
   "execution_count": 19,
   "metadata": {},
   "outputs": [],
   "source": [
    "# ne pas toucher ce lien\n",
    "link =r\"M:\\POLE-CA\\60210-PLANIF\\Greg Stage DATA\\KPI à présenter\\ETAT DSM version 5\\Script Python\\data.csv\"\n",
    "df_DSM = pd.read_csv(link,sep=\",\")"
   ]
  },
  {
   "cell_type": "code",
   "execution_count": 20,
   "metadata": {},
   "outputs": [],
   "source": [
    "#supprime les celulles vides ou nulles par 0\n",
    "df_DSM=df_DSM.fillna(0)"
   ]
  },
  {
   "cell_type": "code",
   "execution_count": 21,
   "metadata": {},
   "outputs": [],
   "source": [
    "# convertit le Temps Coût MO en nombre\n",
    "df_DSM=df_DSM.astype({'Temps Coût MO':'int'})"
   ]
  },
  {
   "cell_type": "code",
   "execution_count": 22,
   "metadata": {},
   "outputs": [],
   "source": [
    "# ajoute la colone Prévision TMO\n",
    "df_DSM['Prévision TMO'] = df_DSM['Qte'] * df_DSM['Temps Coût MO'] "
   ]
  },
  {
   "cell_type": "code",
   "execution_count": 29,
   "metadata": {},
   "outputs": [],
   "source": [
    "# édite un nouveau CSV avec les prévision TMO\n",
    "datas=df_DSM.to_csv(r\"M:\\POLE-CA\\60210-PLANIF\\Greg Stage DATA\\KPI à présenter\\ETAT DSM version 5\\Script Python\\data.csv\")"
   ]
  },
  {
   "cell_type": "code",
   "execution_count": 2,
   "metadata": {},
   "outputs": [],
   "source": [
    "#test pour code ajout un 0 devant une chaine de caracthère\n",
    "# nouveau lien\n",
    "link2 =r\"M:\\POLE-CA\\60210-PLANIF\\Greg Stage DATA\\KPI à présenter\\ETAT DSM version 5\\Script Python\\datas2.xlsx\"\n",
    "df2 = pd.read_excel(link2,header=0)"
   ]
  },
  {
   "cell_type": "code",
   "execution_count": 6,
   "metadata": {},
   "outputs": [
    {
     "name": "stdout",
     "output_type": "stream",
     "text": [
      "      Entite PO Entite IN   Article                Description article  \\\n",
      "0          2177     2372D  01250134        INTERFACE BORNIER WC THALYS   \n",
      "1          2177     2372D  01930079        COLLIER A OREILLES 31X34X26   \n",
      "2          2177     2372D  01940000                     PLAQUE GRADUEE   \n",
      "3          2177     2372D  01960002     GAINE CLIM TYPE ELYTUB D.180MM   \n",
      "4          2177     2372D  01960002     GAINE CLIM TYPE ELYTUB D.180MM   \n",
      "...         ...       ...       ...                                ...   \n",
      "3434      23721     2372A  82030062  CART 12 X 1L ALCOOL MENAGER  -PDG   \n",
      "3435      23721     2372A  82100097  SOLVANT EXXSOL D80 EXO (200L -PDG   \n",
      "3436      23721     2372A  82100120  TALC N 2SILICATE MAGNESIE 25K-PDG   \n",
      "3437      23721     2372A  83640022      ROULEAU DE FILM BULLE D. 50MM   \n",
      "3438      23721     2372A  88340152       TUBE FLUO T5 13W/840 L517 G5   \n",
      "\n",
      "     Dte Prévue        Réception si livr CDA ?  Qte restante  \\\n",
      "0    2023-04-07  KO à vérif - au delà de 7 jrs          50.0   \n",
      "1    2023-04-20  KO à vérif - au delà de 7 jrs         200.0   \n",
      "2    2023-03-29            OK - dans les 7 jrs           6.0   \n",
      "3    2023-05-15  KO à vérif - au delà de 7 jrs          20.0   \n",
      "4    2023-05-16  KO à vérif - au delà de 7 jrs          50.0   \n",
      "...         ...                            ...           ...   \n",
      "3434 2023-03-20                    OK - retard          72.0   \n",
      "3435 2021-07-26                    OK - retard         200.0   \n",
      "3436 2022-08-22                    OK - retard          25.0   \n",
      "3437 2023-03-27            OK - dans les 7 jrs          18.0   \n",
      "3438 2023-03-28            OK - dans les 7 jrs          25.0   \n",
      "\n",
      "                                  Fournisseur  N° CDA Code groupe d’achat  \\\n",
      "0         TECH FORMAGES (ABREGEE EN T&F T.F.)  637219           02177_020   \n",
      "1                                   TRANSFLEX  638272           08000_008   \n",
      "2                                  OXYGRAVURE  653555           02177_006   \n",
      "3     F2A - FABRICATION AERAULIQUE ACOUSTIQUE  655717           02177_015   \n",
      "4     F2A - FABRICATION AERAULIQUE ACOUSTIQUE  657440           02177_015   \n",
      "...                                       ...     ...                 ...   \n",
      "3434                             ORAPI EUROPE  128905           23721_001   \n",
      "3435                              BRENNTAG SA  120257           08000_185   \n",
      "3436                                   UNIVAR  125894           23721_001   \n",
      "3437                                CENPAC SA  127954           23721_001   \n",
      "3438              SONEPAR FRANCE DISTRIBUTION  128881           23721_001   \n",
      "\n",
      "      ...  Code activité Axe central  Axe local  Support opération  BU GL  \\\n",
      "0     ...                    M8ACHPN                                13340   \n",
      "1     ...                    M8ACHPN                                13340   \n",
      "2     ...                    M8ACHPN                                13340   \n",
      "3     ...                    M8ACHPN                                13340   \n",
      "4     ...                    M8ACHPN                                13340   \n",
      "...   ...            ...         ...        ...                ...    ...   \n",
      "3434  ...                    M8ACHPN                                13340   \n",
      "3435  ...                    M8ACHPN                                13340   \n",
      "3436  ...                    M8ACHPN                                13340   \n",
      "3437  ...                    M8ACHPN                                13340   \n",
      "3438  ...                    M8ACHPN                                13340   \n",
      "\n",
      "     Division     RG Département Compte de compta géné  Article   \n",
      "0       19522   2177                            606726  01250134  \n",
      "1       19522   2177                            601721  01930079  \n",
      "2       19522   2177                            601724  01940000  \n",
      "3       19522   2177                            601751  01960002  \n",
      "4       19522   2177                            601751  01960002  \n",
      "...       ...    ...         ...                   ...       ...  \n",
      "3434    19522  23721                            606520  82030062  \n",
      "3435    19522  23721                            601725  82100097  \n",
      "3436    19522  23721                            606520  82100120  \n",
      "3437    19522  23721                            606777  83640022  \n",
      "3438    19522  23721                            606770  88340152  \n",
      "\n",
      "[3439 rows x 77 columns]\n"
     ]
    }
   ],
   "source": [
    "print(df2)"
   ]
  },
  {
   "cell_type": "code",
   "execution_count": 4,
   "metadata": {},
   "outputs": [],
   "source": [
    "df2['Article '] = df2['Article'].str.zfill(8)"
   ]
  },
  {
   "cell_type": "code",
   "execution_count": 5,
   "metadata": {},
   "outputs": [],
   "source": [
    "datas2=df2.to_csv(r\"M:\\POLE-CA\\60210-PLANIF\\Greg Stage DATA\\KPI à présenter\\ETAT DSM version 5\\Script Python\\data2.csv\")"
   ]
  }
 ],
 "metadata": {
  "kernelspec": {
   "display_name": "base",
   "language": "python",
   "name": "python3"
  },
  "language_info": {
   "codemirror_mode": {
    "name": "ipython",
    "version": 3
   },
   "file_extension": ".py",
   "mimetype": "text/x-python",
   "name": "python",
   "nbconvert_exporter": "python",
   "pygments_lexer": "ipython3",
   "version": "3.9.13 (main, Aug 25 2022, 23:51:50) [MSC v.1916 64 bit (AMD64)]"
  },
  "orig_nbformat": 4,
  "vscode": {
   "interpreter": {
    "hash": "ad2bdc8ecc057115af97d19610ffacc2b4e99fae6737bb82f5d7fb13d2f2c186"
   }
  }
 },
 "nbformat": 4,
 "nbformat_minor": 2
}
